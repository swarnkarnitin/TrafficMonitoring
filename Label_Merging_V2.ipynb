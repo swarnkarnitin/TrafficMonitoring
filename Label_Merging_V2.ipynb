{
  "nbformat": 4,
  "nbformat_minor": 0,
  "metadata": {
    "colab": {
      "provenance": [],
      "authorship_tag": "ABX9TyN31sKzs9wkIKBUzUSVI/t9",
      "include_colab_link": true
    },
    "kernelspec": {
      "name": "python3",
      "display_name": "Python 3"
    },
    "language_info": {
      "name": "python"
    }
  },
  "cells": [
    {
      "cell_type": "markdown",
      "metadata": {
        "id": "view-in-github",
        "colab_type": "text"
      },
      "source": [
        "<a href=\"https://colab.research.google.com/github/swarnkarnitin/TrafficMonitoring/blob/main/Label_Merging_V2.ipynb\" target=\"_parent\"><img src=\"https://colab.research.google.com/assets/colab-badge.svg\" alt=\"Open In Colab\"/></a>"
      ]
    },
    {
      "cell_type": "code",
      "execution_count": 19,
      "metadata": {
        "id": "9APOmIxJablz"
      },
      "outputs": [],
      "source": [
        "import os\n",
        "import pandas as pd\n",
        "import numpy as np"
      ]
    },
    {
      "cell_type": "code",
      "metadata": {
        "id": "11efdb9d"
      },
      "source": [
        "# # Define the mapping for the first column\n",
        "# mapping = {0: 6, 1: 7, 2: 0, 3: 1, 4: 8, 5: 9, 6: 10, 7: 5, 8: 3}\n",
        "\n",
        "# # Define the input and output file paths\n",
        "# input_file = 'img1.txt'\n",
        "# output_file = 'out_image1.txt'\n",
        "\n",
        "# # Read the data from the input file\n",
        "# # Assuming the data is space-separated and has no header\n",
        "# try:\n",
        "#     df = pd.read_csv(input_file, sep=' ', header=None)\n",
        "\n",
        "#     # Apply the mapping to the first column (column index 0)\n",
        "#     # Use .loc to avoid SettingWithCopyWarning\n",
        "#     df.loc[:, 0] = df.loc[:, 0].map(mapping)\n",
        "\n",
        "#     # Save the modified data to the output file\n",
        "#     df.to_csv(output_file, sep=' ', header=False, index=False)\n",
        "\n",
        "#     print(f\"Processed data saved to {output_file}\")\n",
        "\n",
        "# except FileNotFoundError:\n",
        "#     print(f\"Error: Input file '{input_file}' not found.\")\n",
        "# except Exception as e:\n",
        "#     print(f\"An error occurred: {e}\")"
      ],
      "execution_count": 20,
      "outputs": []
    },
    {
      "cell_type": "markdown",
      "metadata": {
        "id": "ecef2004"
      },
      "source": [
        "# Task\n",
        "Unzip the file \"train_labels.zip\", create a folder named \"out_tran_label\", and for each file in the unzipped folder, replace the first column value using the map {0:6, 1:7, 2:0, 3:1, 4:8, 5:9, 6:10, 7:5, 8:3}, then save the modified file to the \"out_tran_label\" folder with the same filename."
      ]
    },
    {
      "cell_type": "markdown",
      "metadata": {
        "id": "07deff82"
      },
      "source": [
        "## Unzip the file\n",
        "\n",
        "### Subtask:\n",
        "Extract the contents of the `train_labels.zip` file.\n"
      ]
    },
    {
      "cell_type": "markdown",
      "metadata": {
        "id": "9ffd94dc"
      },
      "source": [
        "**Reasoning**:\n",
        "Extract the contents of the zip file using the zipfile module.\n",
        "\n"
      ]
    },
    {
      "cell_type": "code",
      "metadata": {
        "colab": {
          "base_uri": "https://localhost:8080/"
        },
        "id": "e9ce8a98",
        "outputId": "a34d407b-1e01-424d-fe8d-8e250c7e998f"
      },
      "source": [
        "import zipfile\n",
        "\n",
        "extract_dir = './in_valid_labels'\n",
        "# os.makedirs(extract_dir, exist_ok=True)\n",
        "# print(f\"Directory '{extract_dir}' created or already exists.\")\n",
        "\n",
        "zip_file_path = 'valid_labels.zip'\n",
        "# extract_dir = './in_train_labels/'\n",
        "\n",
        "with zipfile.ZipFile(zip_file_path, 'r') as zip_ref:\n",
        "    zip_ref.extractall(extract_dir)\n",
        "\n",
        "print(f\"Extracted {zip_file_path} to {extract_dir}\")"
      ],
      "execution_count": 21,
      "outputs": [
        {
          "output_type": "stream",
          "name": "stdout",
          "text": [
            "Extracted valid_labels.zip to ./in_valid_labels\n"
          ]
        }
      ]
    },
    {
      "cell_type": "markdown",
      "metadata": {
        "id": "60223540"
      },
      "source": [
        "## Unzip the file\n",
        "\n",
        "### Subtask:\n",
        "Retry extracting the contents of the `train_labels.zip` file, ensuring the file path is correct.\n"
      ]
    },
    {
      "cell_type": "code",
      "metadata": {
        "colab": {
          "base_uri": "https://localhost:8080/"
        },
        "id": "9676ec21",
        "outputId": "98388057-d862-4a8a-d9c9-607a1c7e72a1"
      },
      "source": [
        "output_dir = 'out_valid_label'\n",
        "os.makedirs(output_dir, exist_ok=True)\n",
        "print(f\"Directory '{output_dir}' created or already exists.\")"
      ],
      "execution_count": 22,
      "outputs": [
        {
          "output_type": "stream",
          "name": "stdout",
          "text": [
            "Directory 'out_valid_label' created or already exists.\n"
          ]
        }
      ]
    },
    {
      "cell_type": "markdown",
      "metadata": {
        "id": "279eaee2"
      },
      "source": [
        "**Reasoning**:\n",
        "Retry extracting the zip file and provide a confirmation message.\n",
        "\n"
      ]
    },
    {
      "cell_type": "markdown",
      "metadata": {
        "id": "5f6d1a07"
      },
      "source": [
        "## Create output directory\n",
        "\n",
        "### Subtask:\n",
        "Create a new folder named `out_tran_label` to store the processed files.\n"
      ]
    },
    {
      "cell_type": "markdown",
      "metadata": {
        "id": "44b4de0b"
      },
      "source": [
        "**Reasoning**:\n",
        "Create the output directory as specified in the instructions.\n",
        "\n"
      ]
    },
    {
      "cell_type": "markdown",
      "metadata": {
        "id": "377e635e"
      },
      "source": [
        "## Iterate through files\n",
        "\n",
        "### Subtask:\n",
        "Go through each file in the unzipped folder.\n"
      ]
    },
    {
      "cell_type": "markdown",
      "metadata": {
        "id": "22dc9702"
      },
      "source": [
        "**Reasoning**:\n",
        "List all files in the current directory and filter for text files to get the list of label files.\n",
        "\n"
      ]
    },
    {
      "cell_type": "code",
      "metadata": {
        "colab": {
          "base_uri": "https://localhost:8080/"
        },
        "id": "b0829468",
        "outputId": "e073f7a8-e276-4d71-ba5d-2cb0d3a06080"
      },
      "source": [
        "unzipped_dir = './in_valid_labels/labels/'\n",
        "all_files = os.listdir(unzipped_dir)\n",
        "label_files = [f for f in all_files if f.endswith('.txt')]\n",
        "print(f\"Found {len(label_files)} potential label files.\")"
      ],
      "execution_count": 23,
      "outputs": [
        {
          "output_type": "stream",
          "name": "stdout",
          "text": [
            "Found 216 potential label files.\n"
          ]
        }
      ]
    },
    {
      "cell_type": "markdown",
      "metadata": {
        "id": "df6e2461"
      },
      "source": [
        "## Process each file\n",
        "\n",
        "### Subtask:\n",
        "For each file in the unzipped folder, read the data, apply the mapping to the first column, and save the modified data to the `out_tran_label` folder with the same filename.\n"
      ]
    },
    {
      "cell_type": "markdown",
      "metadata": {
        "id": "161732a9"
      },
      "source": [
        "**Reasoning**:\n",
        "The next step is to iterate through the identified label files, read each one, apply the mapping, and save the modified file to the output directory.\n",
        "\n"
      ]
    },
    {
      "cell_type": "code",
      "metadata": {
        "colab": {
          "base_uri": "https://localhost:8080/"
        },
        "id": "e3d595bb",
        "outputId": "b1584837-55bf-4db9-c755-c20101364457"
      },
      "source": [
        "mapping = {0: 6, 1: 7, 2: 0, 3: 1, 4: 8, 5: 9, 6: 10, 7: 5, 8: 3}\n",
        "output_dir = 'out_valid_label'\n",
        "\n",
        "for filename in label_files:\n",
        "    input_file_path = os.path.join('./in_valid_labels/labels/', filename)\n",
        "    output_file_path = os.path.join(output_dir, filename)\n",
        "\n",
        "    try:\n",
        "        # Read the data\n",
        "        df = pd.read_csv(input_file_path, sep=' ', header=None)\n",
        "\n",
        "        # Apply the mapping to the first column\n",
        "        df.loc[:, 0] = df.loc[:, 0].map(mapping)\n",
        "\n",
        "        # Save the modified data\n",
        "        df.to_csv(output_file_path, sep=' ', header=False, index=False)\n",
        "\n",
        "        print(f\"Processed '{filename}' and saved to '{output_file_path}'\")\n",
        "\n",
        "    except FileNotFoundError:\n",
        "        print(f\"Error: Input file '{input_file_path}' not found.\")\n",
        "    except Exception as e:\n",
        "        print(f\"An error occurred while processing '{filename}': {e}\")"
      ],
      "execution_count": 24,
      "outputs": [
        {
          "output_type": "stream",
          "name": "stdout",
          "text": [
            "Processed 'images-21-_jpg.rf.e796e9a576aa5b6f21f1243a8c86ff77.txt' and saved to 'out_valid_label/images-21-_jpg.rf.e796e9a576aa5b6f21f1243a8c86ff77.txt'\n",
            "Processed '00000171_jpg.rf.c263dfa7434a98aff3241758f905c65c.txt' and saved to 'out_valid_label/00000171_jpg.rf.c263dfa7434a98aff3241758f905c65c.txt'\n",
            "Processed 'road-ministry-will-tell-states-to-make-licensing-of-e-rickshaws-easier_jpg.rf.452ae1523bdf77a5d498f583ef808004.txt' and saved to 'out_valid_label/road-ministry-will-tell-states-to-make-licensing-of-e-rickshaws-easier_jpg.rf.452ae1523bdf77a5d498f583ef808004.txt'\n",
            "Processed '5a8f16f848b164fb0a9c81a575f8f852_jpg.rf.d226c002172eab585c2d816b64c09672.txt' and saved to 'out_valid_label/5a8f16f848b164fb0a9c81a575f8f852_jpg.rf.d226c002172eab585c2d816b64c09672.txt'\n",
            "Processed '00000031_jpg.rf.490314b892b26e55891d5d251de97bf1.txt' and saved to 'out_valid_label/00000031_jpg.rf.490314b892b26e55891d5d251de97bf1.txt'\n",
            "Processed 'images-30-_jpg.rf.c36faf250fb217b11ded2a2b99b09b92.txt' and saved to 'out_valid_label/images-30-_jpg.rf.c36faf250fb217b11ded2a2b99b09b92.txt'\n",
            "Processed '104_png.rf.5680594319ab759564be0b6dbdb18236.txt' and saved to 'out_valid_label/104_png.rf.5680594319ab759564be0b6dbdb18236.txt'\n",
            "Processed 'c222c78f1d2f1f289f7dc48434d87767_jpg.rf.b3f32603b133316935164f717e0e1f92.txt' and saved to 'out_valid_label/c222c78f1d2f1f289f7dc48434d87767_jpg.rf.b3f32603b133316935164f717e0e1f92.txt'\n",
            "Processed '360_F_443003613_tvXaQetXcUEfp9W5cPUHtjE2pG67zG2t_jpg.rf.cf62879f998402ee1e846d663378df52.txt' and saved to 'out_valid_label/360_F_443003613_tvXaQetXcUEfp9W5cPUHtjE2pG67zG2t_jpg.rf.cf62879f998402ee1e846d663378df52.txt'\n",
            "Processed 'download-3-_jpg.rf.8853f985968dd9b832100c129de25cc3.txt' and saved to 'out_valid_label/download-3-_jpg.rf.8853f985968dd9b832100c129de25cc3.txt'\n",
            "Processed 'images-7-_jpg.rf.df26a547c048cdacf7b44456569c45fe.txt' and saved to 'out_valid_label/images-7-_jpg.rf.df26a547c048cdacf7b44456569c45fe.txt'\n",
            "Processed '38car_jpg.rf.b2c72f0619fd0ecab948dbef7344ddc2.txt' and saved to 'out_valid_label/38car_jpg.rf.b2c72f0619fd0ecab948dbef7344ddc2.txt'\n",
            "Processed 'download_jpg.rf.6ee4db4b761e9b4a07fd746c0f217b66.txt' and saved to 'out_valid_label/download_jpg.rf.6ee4db4b761e9b4a07fd746c0f217b66.txt'\n",
            "Processed 'DOG_jpg.rf.43c6a6b9652e61673a83d2444acf82ba.txt' and saved to 'out_valid_label/DOG_jpg.rf.43c6a6b9652e61673a83d2444acf82ba.txt'\n",
            "Processed '273_png.rf.6fad597953ea653ac61baf6397e22298.txt' and saved to 'out_valid_label/273_png.rf.6fad597953ea653ac61baf6397e22298.txt'\n",
            "Processed '78car_jpg.rf.f713b934e0715e752392b0a1f634a6db.txt' and saved to 'out_valid_label/78car_jpg.rf.f713b934e0715e752392b0a1f634a6db.txt'\n",
            "Processed '00000217_jpg.rf.8fefbc3aa78ed48f76315ff99d29c75a.txt' and saved to 'out_valid_label/00000217_jpg.rf.8fefbc3aa78ed48f76315ff99d29c75a.txt'\n",
            "Processed 'images-31-_jpeg.rf.7f65659c3c936245afd74d9b2b09fe3f.txt' and saved to 'out_valid_label/images-31-_jpeg.rf.7f65659c3c936245afd74d9b2b09fe3f.txt'\n",
            "Processed '25car_jpg.rf.100e88fb300acefb2ae26ab58fb5614a.txt' and saved to 'out_valid_label/25car_jpg.rf.100e88fb300acefb2ae26ab58fb5614a.txt'\n",
            "Processed 'BUS_77_jpeg_jpg.rf.3d02f0ed0759eb7f346ff3495a6f8211.txt' and saved to 'out_valid_label/BUS_77_jpeg_jpg.rf.3d02f0ed0759eb7f346ff3495a6f8211.txt'\n",
            "Processed '61a84bdf3a9b166efcbf780ab898f947_jpg.rf.ceb17e413499356c9fb3091990ef6e8f.txt' and saved to 'out_valid_label/61a84bdf3a9b166efcbf780ab898f947_jpg.rf.ceb17e413499356c9fb3091990ef6e8f.txt'\n",
            "Processed 'pexels-pixabay-159192_jpg.rf.338b53c077ce4a7bffc8ae12c267a52e.txt' and saved to 'out_valid_label/pexels-pixabay-159192_jpg.rf.338b53c077ce4a7bffc8ae12c267a52e.txt'\n",
            "Processed 'images-13-_jpg.rf.d1b4fae8819e7a11c86f5a49407eb9e5.txt' and saved to 'out_valid_label/images-13-_jpg.rf.d1b4fae8819e7a11c86f5a49407eb9e5.txt'\n",
            "Processed '189_png.rf.847b6695d1ea42fd9540f9fd4a8b6329.txt' and saved to 'out_valid_label/189_png.rf.847b6695d1ea42fd9540f9fd4a8b6329.txt'\n",
            "Processed 'BUS_82_jpeg_jpg.rf.68010565db66ac8ef607377fe9defbc0.txt' and saved to 'out_valid_label/BUS_82_jpeg_jpg.rf.68010565db66ac8ef607377fe9defbc0.txt'\n",
            "Processed 'download-5-_jpg.rf.25dc66ca0bf2cc09608ce04d4da66708.txt' and saved to 'out_valid_label/download-5-_jpg.rf.25dc66ca0bf2cc09608ce04d4da66708.txt'\n",
            "Processed '20210629034536_20201006122925_2021_BMW_R1250GS__1__1625219463076_1642738728831_jpg.rf.4427184104fa7dc21ae4a26c3f8ac6da.txt' and saved to 'out_valid_label/20210629034536_20201006122925_2021_BMW_R1250GS__1__1625219463076_1642738728831_jpg.rf.4427184104fa7dc21ae4a26c3f8ac6da.txt'\n",
            "Processed '303_png.rf.c5c409b543349b9b75d87b1d3656c224.txt' and saved to 'out_valid_label/303_png.rf.c5c409b543349b9b75d87b1d3656c224.txt'\n",
            "Processed 'BUS_111_jpeg_jpg.rf.0ac1e8fa3bb8c6354a5a234c07417175.txt' and saved to 'out_valid_label/BUS_111_jpeg_jpg.rf.0ac1e8fa3bb8c6354a5a234c07417175.txt'\n",
            "Processed '112_png.rf.008ff4b02850879ec5e0f7f8cdc88f7d.txt' and saved to 'out_valid_label/112_png.rf.008ff4b02850879ec5e0f7f8cdc88f7d.txt'\n",
            "Processed 'images-6-_jpg.rf.6198abace46d60bde4f6b5db74a8c532.txt' and saved to 'out_valid_label/images-6-_jpg.rf.6198abace46d60bde4f6b5db74a8c532.txt'\n",
            "Processed 'TH01_DT_jpg.rf.285e8b34276cfeea20a3d523ac4ea2d7.txt' and saved to 'out_valid_label/TH01_DT_jpg.rf.285e8b34276cfeea20a3d523ac4ea2d7.txt'\n",
            "Processed '292_png.rf.d577ba06f5df061e488d7282512524b5.txt' and saved to 'out_valid_label/292_png.rf.d577ba06f5df061e488d7282512524b5.txt'\n",
            "Processed 'download-6-_jpg.rf.ce02fd53faf9df1feeb1fe5f5270dc3e.txt' and saved to 'out_valid_label/download-6-_jpg.rf.ce02fd53faf9df1feeb1fe5f5270dc3e.txt'\n",
            "Processed 'images-5-_jpg.rf.b600b865dee6658fecfeda1bc3dc81e7.txt' and saved to 'out_valid_label/images-5-_jpg.rf.b600b865dee6658fecfeda1bc3dc81e7.txt'\n",
            "Processed 'e-rikhaw-1581078290_jpg.rf.098b4fe765b410e42439f660feb1c2a6.txt' and saved to 'out_valid_label/e-rikhaw-1581078290_jpg.rf.098b4fe765b410e42439f660feb1c2a6.txt'\n",
            "Processed '286_png.rf.495e40d6fe6abb05c18e82380dd8af10.txt' and saved to 'out_valid_label/286_png.rf.495e40d6fe6abb05c18e82380dd8af10.txt'\n",
            "Processed 'BUS_34_jpeg_jpg.rf.f3bd2f93e916de12f529f893546f4ac4.txt' and saved to 'out_valid_label/BUS_34_jpeg_jpg.rf.f3bd2f93e916de12f529f893546f4ac4.txt'\n",
            "Processed 'BUS_33_jpeg_jpg.rf.ac8482d540f5c7d2a2e1a86176897b80.txt' and saved to 'out_valid_label/BUS_33_jpeg_jpg.rf.ac8482d540f5c7d2a2e1a86176897b80.txt'\n",
            "Processed 'f7aaf52410d6547ec23be783d9b95a76_jpg.rf.4097047cad9e56b3b1ce9053dfacd2d8.txt' and saved to 'out_valid_label/f7aaf52410d6547ec23be783d9b95a76_jpg.rf.4097047cad9e56b3b1ce9053dfacd2d8.txt'\n",
            "Processed 'ad20d9c354b59dd4421ddf53abb1b55e_jpg.rf.e5d454ae81d0178ef011a85108025b98.txt' and saved to 'out_valid_label/ad20d9c354b59dd4421ddf53abb1b55e_jpg.rf.e5d454ae81d0178ef011a85108025b98.txt'\n",
            "Processed '145_png.rf.5a03024d1efedae1e361bafefd60c181.txt' and saved to 'out_valid_label/145_png.rf.5a03024d1efedae1e361bafefd60c181.txt'\n",
            "Processed '1623156724885_jpg.rf.d14aebd5dca0dd434c2f9350cc36afd6.txt' and saved to 'out_valid_label/1623156724885_jpg.rf.d14aebd5dca0dd434c2f9350cc36afd6.txt'\n",
            "Processed 'istockphoto-157190547-1024x1024_jpg.rf.cf88f7ebcf3dd5665bef7706f6aa7b4b.txt' and saved to 'out_valid_label/istockphoto-157190547-1024x1024_jpg.rf.cf88f7ebcf3dd5665bef7706f6aa7b4b.txt'\n",
            "Processed '00000030_jpg.rf.0f8f2ef0b3fd8ef70a0bb982736393af.txt' and saved to 'out_valid_label/00000030_jpg.rf.0f8f2ef0b3fd8ef70a0bb982736393af.txt'\n",
            "Processed '20220823_08_24_13_200_000_zanmiF2KaRZ8cqpLXg2nInMfAXG2_F_3000_4000-1-_jpg.rf.a4609fae0d64681517961522484bca8f.txt' and saved to 'out_valid_label/20220823_08_24_13_200_000_zanmiF2KaRZ8cqpLXg2nInMfAXG2_F_3000_4000-1-_jpg.rf.a4609fae0d64681517961522484bca8f.txt'\n",
            "Processed '6ee7906e7c2562192a911dd929a99135_jpg.rf.bb9d01853298f1f08a15efcf052c0c8d.txt' and saved to 'out_valid_label/6ee7906e7c2562192a911dd929a99135_jpg.rf.bb9d01853298f1f08a15efcf052c0c8d.txt'\n",
            "Processed '1653589526_new-project-2022-05-26t235540-650_jpg.rf.4960d0a67b291951cb3b2620dfc5cf38.txt' and saved to 'out_valid_label/1653589526_new-project-2022-05-26t235540-650_jpg.rf.4960d0a67b291951cb3b2620dfc5cf38.txt'\n",
            "Processed 'BUS_135_jpeg_jpg.rf.2c47e3fda636cc73490980de5933a985.txt' and saved to 'out_valid_label/BUS_135_jpeg_jpg.rf.2c47e3fda636cc73490980de5933a985.txt'\n",
            "Processed 'images-8-_jpg.rf.9f2fa37fb4e269629464cb3048b45c1e.txt' and saved to 'out_valid_label/images-8-_jpg.rf.9f2fa37fb4e269629464cb3048b45c1e.txt'\n",
            "Processed '81KA3UR4eML-_SX425__jpg.rf.97879fa2513116190dff4dd43b4b7f91.txt' and saved to 'out_valid_label/81KA3UR4eML-_SX425__jpg.rf.97879fa2513116190dff4dd43b4b7f91.txt'\n",
            "Processed '298_png.rf.72d0048b303dcc2d80c05c297f45e00c.txt' and saved to 'out_valid_label/298_png.rf.72d0048b303dcc2d80c05c297f45e00c.txt'\n",
            "Processed 'images-13-_jpg.rf.7673560356eade5c601019083ac17c8e.txt' and saved to 'out_valid_label/images-13-_jpg.rf.7673560356eade5c601019083ac17c8e.txt'\n",
            "Processed '121_png.rf.f22ef11bc21c063af194871d7a514093.txt' and saved to 'out_valid_label/121_png.rf.f22ef11bc21c063af194871d7a514093.txt'\n",
            "Processed '310_png.rf.8c40105d9afb5a3843d7b37e912bf9d2.txt' and saved to 'out_valid_label/310_png.rf.8c40105d9afb5a3843d7b37e912bf9d2.txt'\n",
            "Processed 'Rhesus_macaque_-Macaca_mulatta_mulatta-_male-_Gokarna_jpg.rf.5a4762afa7cbc815379a220d390278c3.txt' and saved to 'out_valid_label/Rhesus_macaque_-Macaca_mulatta_mulatta-_male-_Gokarna_jpg.rf.5a4762afa7cbc815379a220d390278c3.txt'\n",
            "Processed 'images-10-_jpg.rf.ad8210a95800575adfa12bb92a854951.txt' and saved to 'out_valid_label/images-10-_jpg.rf.ad8210a95800575adfa12bb92a854951.txt'\n",
            "Processed '74a0186dac1290e56ed217f3ee9d6d09_jpg.rf.675e9d5059107401e9c4ad325f7ad020.txt' and saved to 'out_valid_label/74a0186dac1290e56ed217f3ee9d6d09_jpg.rf.675e9d5059107401e9c4ad325f7ad020.txt'\n",
            "Processed 'BUS_104_jpeg_jpg.rf.c786aac49a540043a8ef1780b2b305eb.txt' and saved to 'out_valid_label/BUS_104_jpeg_jpg.rf.c786aac49a540043a8ef1780b2b305eb.txt'\n",
            "Processed 'download-2-_jpg.rf.1d973499b7b99f2c335373924d471b6b.txt' and saved to 'out_valid_label/download-2-_jpg.rf.1d973499b7b99f2c335373924d471b6b.txt'\n",
            "Processed 'download_jpg.rf.3a09a601619691a2837bd28a46674f92.txt' and saved to 'out_valid_label/download_jpg.rf.3a09a601619691a2837bd28a46674f92.txt'\n",
            "Processed '20220818_11_47_09_054_000_sCWeXGsURpaLbQKOqWgmXSHiSAw2_F_4160_3120-1-_jpg.rf.13f67a98281268f66c416b491246e665.txt' and saved to 'out_valid_label/20220818_11_47_09_054_000_sCWeXGsURpaLbQKOqWgmXSHiSAw2_F_4160_3120-1-_jpg.rf.13f67a98281268f66c416b491246e665.txt'\n",
            "Processed '5155a1bf058af548a38c9bc99637b2fe_jpg.rf.21557afcc6bd26dda37632a781e4bdab.txt' and saved to 'out_valid_label/5155a1bf058af548a38c9bc99637b2fe_jpg.rf.21557afcc6bd26dda37632a781e4bdab.txt'\n",
            "Processed '728d61fa23517bd1e8bef3018c3e48ff_jpg.rf.a4701932a6139ea5d7ffe80358b5afad.txt' and saved to 'out_valid_label/728d61fa23517bd1e8bef3018c3e48ff_jpg.rf.a4701932a6139ea5d7ffe80358b5afad.txt'\n",
            "Processed 'e44c7b55c69f0918ccc014f2642f5b25_jpg.rf.5522ee97b2fbaeca407ebc544b8a21a9.txt' and saved to 'out_valid_label/e44c7b55c69f0918ccc014f2642f5b25_jpg.rf.5522ee97b2fbaeca407ebc544b8a21a9.txt'\n",
            "Processed 'download_jpg.rf.b5b9ad18aa426369d403e5b8dffd6312.txt' and saved to 'out_valid_label/download_jpg.rf.b5b9ad18aa426369d403e5b8dffd6312.txt'\n",
            "Processed '00000218_jpg.rf.a83832cefa3d0ccaabaacd248e40124d.txt' and saved to 'out_valid_label/00000218_jpg.rf.a83832cefa3d0ccaabaacd248e40124d.txt'\n",
            "Processed 'images-8-_jpg.rf.df50e9a6433daaa3c2ef5f75d008b69e.txt' and saved to 'out_valid_label/images-8-_jpg.rf.df50e9a6433daaa3c2ef5f75d008b69e.txt'\n",
            "Processed '00000150_jpg.rf.90e500e29fd050647ef84aafea4f9ce3.txt' and saved to 'out_valid_label/00000150_jpg.rf.90e500e29fd050647ef84aafea4f9ce3.txt'\n",
            "Processed '7528C080_0027L1_jpg.rf.19357759528634d25993c76f32994e68.txt' and saved to 'out_valid_label/7528C080_0027L1_jpg.rf.19357759528634d25993c76f32994e68.txt'\n",
            "Processed '186_png.rf.dc15c60b272f169a8b28b1e581e45774.txt' and saved to 'out_valid_label/186_png.rf.dc15c60b272f169a8b28b1e581e45774.txt'\n",
            "Processed '7780263a52863a75ba5f331d33482185_jpg.rf.596b12586b4ef0ab045ed9d05e3b0e73.txt' and saved to 'out_valid_label/7780263a52863a75ba5f331d33482185_jpg.rf.596b12586b4ef0ab045ed9d05e3b0e73.txt'\n",
            "Processed '24car_jpg.rf.eedc4662fe1c6128b47f63d2c38ec661.txt' and saved to 'out_valid_label/24car_jpg.rf.eedc4662fe1c6128b47f63d2c38ec661.txt'\n",
            "Processed 'images-28-_jpg.rf.47a62917422e6849ab5959aa09ab085d.txt' and saved to 'out_valid_label/images-28-_jpg.rf.47a62917422e6849ab5959aa09ab085d.txt'\n",
            "Processed '813697927714858e375c407f8ca0c948_jpg.rf.d3b774604b57f1768d2af896a7c0743f.txt' and saved to 'out_valid_label/813697927714858e375c407f8ca0c948_jpg.rf.d3b774604b57f1768d2af896a7c0743f.txt'\n",
            "Processed 'images-1-_jpg.rf.f9af853f3bbfbb4e186f113f6a248219.txt' and saved to 'out_valid_label/images-1-_jpg.rf.f9af853f3bbfbb4e186f113f6a248219.txt'\n",
            "Processed '13car_jpg.rf.fb9b1db2798e0997bd87566e14ab9671.txt' and saved to 'out_valid_label/13car_jpg.rf.fb9b1db2798e0997bd87566e14ab9671.txt'\n",
            "Processed '32544160d500e7abdf834d6f3688d45c_jpg.rf.08649234640c94a138870d2bc9e4c6a1.txt' and saved to 'out_valid_label/32544160d500e7abdf834d6f3688d45c_jpg.rf.08649234640c94a138870d2bc9e4c6a1.txt'\n",
            "Processed '07_04_2022-e_riksha_22607312_jpg.rf.0b1fd36e611c3cb63678f235ffd44906.txt' and saved to 'out_valid_label/07_04_2022-e_riksha_22607312_jpg.rf.0b1fd36e611c3cb63678f235ffd44906.txt'\n",
            "Processed '00000009_jpg.rf.0c6dacab8cbc50271bfef7bbc87a159b.txt' and saved to 'out_valid_label/00000009_jpg.rf.0c6dacab8cbc50271bfef7bbc87a159b.txt'\n",
            "Processed 'Cycle_Rickshaw_-_KN_Katju_Road_-_Allahabad_-_2014-07-06_7341_JPG.rf.712d5bc4b5a78ad95efe731e59580f75.txt' and saved to 'out_valid_label/Cycle_Rickshaw_-_KN_Katju_Road_-_Allahabad_-_2014-07-06_7341_JPG.rf.712d5bc4b5a78ad95efe731e59580f75.txt'\n",
            "Processed 'BUS_3_jpeg_jpg.rf.575323e19d1ba9b2d4dfc7539293dfb6.txt' and saved to 'out_valid_label/BUS_3_jpeg_jpg.rf.575323e19d1ba9b2d4dfc7539293dfb6.txt'\n",
            "Processed 'images-9-_jpg.rf.393a28bbbba794e4f7c5360625d19154.txt' and saved to 'out_valid_label/images-9-_jpg.rf.393a28bbbba794e4f7c5360625d19154.txt'\n",
            "Processed 'images-25-_jpg.rf.582ac9ac1a8c36d0a07869875d066729.txt' and saved to 'out_valid_label/images-25-_jpg.rf.582ac9ac1a8c36d0a07869875d066729.txt'\n",
            "Processed '68d20d19b3de8d74c469fd70eccf0d9b_jpg.rf.e788b72f412dc015d31434a6c5ee5cc5.txt' and saved to 'out_valid_label/68d20d19b3de8d74c469fd70eccf0d9b_jpg.rf.e788b72f412dc015d31434a6c5ee5cc5.txt'\n",
            "Processed '65car_jpg.rf.595ec6a5d7946fd0f9ac832e81455999.txt' and saved to 'out_valid_label/65car_jpg.rf.595ec6a5d7946fd0f9ac832e81455999.txt'\n",
            "Processed 'images-7-_jpg.rf.1709d7887c59fe65749f3d0b02c27dda.txt' and saved to 'out_valid_label/images-7-_jpg.rf.1709d7887c59fe65749f3d0b02c27dda.txt'\n",
            "Processed '382_png.rf.54280fd018b85f38cabbfe011d06a599.txt' and saved to 'out_valid_label/382_png.rf.54280fd018b85f38cabbfe011d06a599.txt'\n",
            "Processed '42car_jpg.rf.c04f9180fe3b951e0278164970f3c04a.txt' and saved to 'out_valid_label/42car_jpg.rf.c04f9180fe3b951e0278164970f3c04a.txt'\n",
            "Processed 'Cycle_Rickshaw_jpg.rf.832fadaf02d7d16c777f6d6ae1539a04.txt' and saved to 'out_valid_label/Cycle_Rickshaw_jpg.rf.832fadaf02d7d16c777f6d6ae1539a04.txt'\n",
            "Processed '6454385575_a9bd918d08_z_jpg.rf.66a41b48a87c809b5d101b65d7b8c1fa.txt' and saved to 'out_valid_label/6454385575_a9bd918d08_z_jpg.rf.66a41b48a87c809b5d101b65d7b8c1fa.txt'\n",
            "Processed 'images-26-_jpg.rf.04b56bb180b5bf740da029b493b58a87.txt' and saved to 'out_valid_label/images-26-_jpg.rf.04b56bb180b5bf740da029b493b58a87.txt'\n",
            "Processed 'download-1-_jpg.rf.5736507445dd2245268d76324fa645b9.txt' and saved to 'out_valid_label/download-1-_jpg.rf.5736507445dd2245268d76324fa645b9.txt'\n",
            "Processed '8f4b7cf5053701b76717d82af1e2adb9_jpg.rf.782eae7e7eefdb8525dad7b01671a5ab.txt' and saved to 'out_valid_label/8f4b7cf5053701b76717d82af1e2adb9_jpg.rf.782eae7e7eefdb8525dad7b01671a5ab.txt'\n",
            "Processed '6548f7f9343a59125aa9ad3118f93459_jpg.rf.dfbf5ed3f97ab1a7df43923804d7e619.txt' and saved to 'out_valid_label/6548f7f9343a59125aa9ad3118f93459_jpg.rf.dfbf5ed3f97ab1a7df43923804d7e619.txt'\n",
            "Processed 'Cycle_Rickshaw_-_Chandni_Chowk_Road_-_Delhi_2014-05-13_3517_jpg.rf.9a7b00b436170a8276de3efc1d094d26.txt' and saved to 'out_valid_label/Cycle_Rickshaw_-_Chandni_Chowk_Road_-_Delhi_2014-05-13_3517_jpg.rf.9a7b00b436170a8276de3efc1d094d26.txt'\n",
            "Processed 'killer_monkeys_invade_town-4_jpg.rf.3acec6ce43fff2c706c4a237b84d4f01.txt' and saved to 'out_valid_label/killer_monkeys_invade_town-4_jpg.rf.3acec6ce43fff2c706c4a237b84d4f01.txt'\n",
            "Processed 'cycle_jpg.rf.e2dfc8459579888e49a9f7f2a4eafbe1.txt' and saved to 'out_valid_label/cycle_jpg.rf.e2dfc8459579888e49a9f7f2a4eafbe1.txt'\n",
            "Processed '4412702379_a5b91ccede_b_jpg.rf.7576c2b0a28cce7baa4d3f65dc729a6b.txt' and saved to 'out_valid_label/4412702379_a5b91ccede_b_jpg.rf.7576c2b0a28cce7baa4d3f65dc729a6b.txt'\n",
            "Processed '5a_jpg.rf.3a32862e10f65313a654c3e1d081a7c6.txt' and saved to 'out_valid_label/5a_jpg.rf.3a32862e10f65313a654c3e1d081a7c6.txt'\n",
            "Processed 'images-2-_jpg.rf.a2bf2d104559df8dca0891715e1158df.txt' and saved to 'out_valid_label/images-2-_jpg.rf.a2bf2d104559df8dca0891715e1158df.txt'\n",
            "Processed 'Delhi-India-scaled_jpg.rf.2b8d5fb669fe885fe3efe8e2c9fa9616.txt' and saved to 'out_valid_label/Delhi-India-scaled_jpg.rf.2b8d5fb669fe885fe3efe8e2c9fa9616.txt'\n",
            "Processed 'Cycle-rickshaw-main_jpg.rf.84d8adfeb4eced9bace6ab7c67964876.txt' and saved to 'out_valid_label/Cycle-rickshaw-main_jpg.rf.84d8adfeb4eced9bace6ab7c67964876.txt'\n",
            "Processed 'BUS_44_jpeg_jpg.rf.24fd36f7b72683ba5ee7b7580d0a7a02.txt' and saved to 'out_valid_label/BUS_44_jpeg_jpg.rf.24fd36f7b72683ba5ee7b7580d0a7a02.txt'\n",
            "Processed 'images-2-_jpg.rf.eb85e775a06eb79bbd944dc8c4498b50.txt' and saved to 'out_valid_label/images-2-_jpg.rf.eb85e775a06eb79bbd944dc8c4498b50.txt'\n",
            "Processed 'Datacluster-Truck-66-_jpg.rf.4055f99fb4aad1d767ebce883013a720.txt' and saved to 'out_valid_label/Datacluster-Truck-66-_jpg.rf.4055f99fb4aad1d767ebce883013a720.txt'\n",
            "Processed '54eb8f1a0eb1982a8644036ca5c2ba03_jpg.rf.05f789113315b9dd4fa1b4f52966e5e6.txt' and saved to 'out_valid_label/54eb8f1a0eb1982a8644036ca5c2ba03_jpg.rf.05f789113315b9dd4fa1b4f52966e5e6.txt'\n",
            "Processed 'BUS_92_jpeg_jpg.rf.b8cdfb6917a1dbe543355a6efbe53db7.txt' and saved to 'out_valid_label/BUS_92_jpeg_jpg.rf.b8cdfb6917a1dbe543355a6efbe53db7.txt'\n",
            "Processed 'whatsapp_image_2021-04-15_at_1-41-19_pm-jpeg_jpg.rf.a6c300dcc8149b67d9ebf781c96207ff.txt' and saved to 'out_valid_label/whatsapp_image_2021-04-15_at_1-41-19_pm-jpeg_jpg.rf.a6c300dcc8149b67d9ebf781c96207ff.txt'\n",
            "Processed '800px_COLOURBOX1717590_jpg.rf.5854a88450e9eeb1f9aa46e284115315.txt' and saved to 'out_valid_label/800px_COLOURBOX1717590_jpg.rf.5854a88450e9eeb1f9aa46e284115315.txt'\n",
            "Processed '33car_jpg.rf.bef049d23b81b84ec7f99d95e6e81068.txt' and saved to 'out_valid_label/33car_jpg.rf.bef049d23b81b84ec7f99d95e6e81068.txt'\n",
            "Processed '73car_jpg.rf.8c9700dfa420b06003ae719da7daaa61.txt' and saved to 'out_valid_label/73car_jpg.rf.8c9700dfa420b06003ae719da7daaa61.txt'\n",
            "Processed 'BUS_68_jpeg_jpg.rf.a3f8baab3dea59c1ca37f2973dc3e9ec.txt' and saved to 'out_valid_label/BUS_68_jpeg_jpg.rf.a3f8baab3dea59c1ca37f2973dc3e9ec.txt'\n",
            "Processed 'images-11-_jpg.rf.657afbd370c1ef4db9461967f62a7e83.txt' and saved to 'out_valid_label/images-11-_jpg.rf.657afbd370c1ef4db9461967f62a7e83.txt'\n",
            "Processed '14180559327_ffde1dd486_b_jpg.rf.befc36b17e43e071d6d16001749d404a.txt' and saved to 'out_valid_label/14180559327_ffde1dd486_b_jpg.rf.befc36b17e43e071d6d16001749d404a.txt'\n",
            "Processed 'images-13-_jpg.rf.a8faf3783c0be518599e3f633d630bd8.txt' and saved to 'out_valid_label/images-13-_jpg.rf.a8faf3783c0be518599e3f633d630bd8.txt'\n",
            "Processed '115_png.rf.89923712231d7e833e05daf09bf8a144.txt' and saved to 'out_valid_label/115_png.rf.89923712231d7e833e05daf09bf8a144.txt'\n",
            "Processed '49car_jpg.rf.3a60a27f8c08f0daa71614632dabd37f.txt' and saved to 'out_valid_label/49car_jpg.rf.3a60a27f8c08f0daa71614632dabd37f.txt'\n",
            "Processed '300_png.rf.46c3a7a2a8a5e35aac32eab613729952.txt' and saved to 'out_valid_label/300_png.rf.46c3a7a2a8a5e35aac32eab613729952.txt'\n",
            "Processed 'Datacluster-Truck-97-_jpg.rf.0a2a614115645c6287bb2bae48f6670e.txt' and saved to 'out_valid_label/Datacluster-Truck-97-_jpg.rf.0a2a614115645c6287bb2bae48f6670e.txt'\n",
            "Processed '20220820_19_19_10_482_000_yqHDGJWbgfa76t4NCRqE5azDbht2_F_3264_2448-1-_jpg.rf.c97e4b336a6c70d3c0be714403d719dd.txt' and saved to 'out_valid_label/20220820_19_19_10_482_000_yqHDGJWbgfa76t4NCRqE5azDbht2_F_3264_2448-1-_jpg.rf.c97e4b336a6c70d3c0be714403d719dd.txt'\n",
            "Processed 'kol-rick_jpg.rf.e841174640eefd618e6138a0b0841ba0.txt' and saved to 'out_valid_label/kol-rick_jpg.rf.e841174640eefd618e6138a0b0841ba0.txt'\n",
            "Processed 'be423de7b8bd6196572ad0291b26f165_jpg.rf.a2e8d33f476880b7ea4fc1c62d1b624c.txt' and saved to 'out_valid_label/be423de7b8bd6196572ad0291b26f165_jpg.rf.a2e8d33f476880b7ea4fc1c62d1b624c.txt'\n",
            "Processed '302_png.rf.fead3d03c734f135d76c96783ea60134.txt' and saved to 'out_valid_label/302_png.rf.fead3d03c734f135d76c96783ea60134.txt'\n",
            "Processed 'istockphoto-493707587-612x612_jpg.rf.f4056b3ce8a374f029f13b50abe830b2.txt' and saved to 'out_valid_label/istockphoto-493707587-612x612_jpg.rf.f4056b3ce8a374f029f13b50abe830b2.txt'\n",
            "Processed '20220816_08_01_30_430_000_jke68r2Zhab3gYaEmcwlQ1Z1kgU2_F_3120_4160-1-_jpg.rf.4ce9cde3e239d14f9f18ba45d5b282da.txt' and saved to 'out_valid_label/20220816_08_01_30_430_000_jke68r2Zhab3gYaEmcwlQ1Z1kgU2_F_3120_4160-1-_jpg.rf.4ce9cde3e239d14f9f18ba45d5b282da.txt'\n",
            "Processed '6269-cycle-rickshaw-1107PT064168SQ_jpg.rf.96b21de9e51d1711992e56f5e3c5c883.txt' and saved to 'out_valid_label/6269-cycle-rickshaw-1107PT064168SQ_jpg.rf.96b21de9e51d1711992e56f5e3c5c883.txt'\n",
            "Processed '119_png.rf.e66f2289d3ef9b90ffbe952ca0321c77.txt' and saved to 'out_valid_label/119_png.rf.e66f2289d3ef9b90ffbe952ca0321c77.txt'\n",
            "Processed '1297-86_jpg.rf.4b3350ac2a3f2599a24f324111eca7eb.txt' and saved to 'out_valid_label/1297-86_jpg.rf.4b3350ac2a3f2599a24f324111eca7eb.txt'\n",
            "Processed 'maxresdefault_jpg.rf.fe78e0804ef1dcc96c0c2f0e6a135ceb.txt' and saved to 'out_valid_label/maxresdefault_jpg.rf.fe78e0804ef1dcc96c0c2f0e6a135ceb.txt'\n",
            "Processed 'images-10-_jpg.rf.fc3586e96852dd18e20f08115e6b3459.txt' and saved to 'out_valid_label/images-10-_jpg.rf.fc3586e96852dd18e20f08115e6b3459.txt'\n",
            "Processed '5e7ca8a1903cf5dda009ed89311c90c2_jpg.rf.f16f0aeefd32aa20c0086c57685de458.txt' and saved to 'out_valid_label/5e7ca8a1903cf5dda009ed89311c90c2_jpg.rf.f16f0aeefd32aa20c0086c57685de458.txt'\n",
            "Processed '20220816_13_45_05_563_000_bfSm2U74UHdSXd2DG14bHRvOhhI2_F_3000_4000-1-_jpg.rf.29397d71f9cb293e8bff80fec62268ff.txt' and saved to 'out_valid_label/20220816_13_45_05_563_000_bfSm2U74UHdSXd2DG14bHRvOhhI2_F_3000_4000-1-_jpg.rf.29397d71f9cb293e8bff80fec62268ff.txt'\n",
            "Processed 'offset_952889_jpg.rf.d5611b840186d36563438a15ff794fa8.txt' and saved to 'out_valid_label/offset_952889_jpg.rf.d5611b840186d36563438a15ff794fa8.txt'\n",
            "Processed '28ab0b428db418b49e0339cf80b09acd_jpg.rf.bc68abf6bb84189d6859aa2423501772.txt' and saved to 'out_valid_label/28ab0b428db418b49e0339cf80b09acd_jpg.rf.bc68abf6bb84189d6859aa2423501772.txt'\n",
            "Processed 'b75a17db7c754b3942205ee54a881330_jpg.rf.1dd26634af81b892fb01169dad388798.txt' and saved to 'out_valid_label/b75a17db7c754b3942205ee54a881330_jpg.rf.1dd26634af81b892fb01169dad388798.txt'\n",
            "Processed 'download_jpg.rf.f957eca67e64f8101fd83ad487bf7daa.txt' and saved to 'out_valid_label/download_jpg.rf.f957eca67e64f8101fd83ad487bf7daa.txt'\n",
            "Processed '2965cc3f4ee262a69c1339ae39f47c22_jpg.rf.c57fa067b6813cb3c07c37fba78a17a9.txt' and saved to 'out_valid_label/2965cc3f4ee262a69c1339ae39f47c22_jpg.rf.c57fa067b6813cb3c07c37fba78a17a9.txt'\n",
            "Processed 'dhaka-bangladesh-rickshaw-with-passenger_jpg.rf.17243304c006050239e32588b982699f.txt' and saved to 'out_valid_label/dhaka-bangladesh-rickshaw-with-passenger_jpg.rf.17243304c006050239e32588b982699f.txt'\n",
            "Processed '01e9c365f0b6dabef9556012a1ff9a4e_jpg.rf.652d6efd4245a8e5ab27ec0e84b7a194.txt' and saved to 'out_valid_label/01e9c365f0b6dabef9556012a1ff9a4e_jpg.rf.652d6efd4245a8e5ab27ec0e84b7a194.txt'\n",
            "Processed '00000144_jpg.rf.ee6081f77f7e8a53f04d768670c94b8c.txt' and saved to 'out_valid_label/00000144_jpg.rf.ee6081f77f7e8a53f04d768670c94b8c.txt'\n",
            "Processed '00000212_jpg.rf.5d3d7e84e5ec114d798ec9bcb37cf26f.txt' and saved to 'out_valid_label/00000212_jpg.rf.5d3d7e84e5ec114d798ec9bcb37cf26f.txt'\n",
            "Processed 'exide-erickshaw-featured_jpg.rf.6dd7de58c042784dd183e66a5f89c96b.txt' and saved to 'out_valid_label/exide-erickshaw-featured_jpg.rf.6dd7de58c042784dd183e66a5f89c96b.txt'\n",
            "Processed 'Muslim-women3_20161028_1642538077_jpg.rf.115bcc78ddc668f69e9f5b90765a4547.txt' and saved to 'out_valid_label/Muslim-women3_20161028_1642538077_jpg.rf.115bcc78ddc668f69e9f5b90765a4547.txt'\n",
            "Processed 'images-4-_jpg.rf.b64b3c54c68a2b6de4a9628ef0264b8f.txt' and saved to 'out_valid_label/images-4-_jpg.rf.b64b3c54c68a2b6de4a9628ef0264b8f.txt'\n",
            "Processed '28THCYCLERICK_jpg.rf.b949b70866a6040b59c714f212ab984f.txt' and saved to 'out_valid_label/28THCYCLERICK_jpg.rf.b949b70866a6040b59c714f212ab984f.txt'\n",
            "Processed 'india-cycle-rickshaw_jpg.rf.77e4558f177934b796524f8244440800.txt' and saved to 'out_valid_label/india-cycle-rickshaw_jpg.rf.77e4558f177934b796524f8244440800.txt'\n",
            "Processed '64car_jpg.rf.580ed3836d295f761cc618aac6f9b903.txt' and saved to 'out_valid_label/64car_jpg.rf.580ed3836d295f761cc618aac6f9b903.txt'\n",
            "Processed '272_png.rf.868ce75d06d5c8ba931f10034e318dce.txt' and saved to 'out_valid_label/272_png.rf.868ce75d06d5c8ba931f10034e318dce.txt'\n",
            "Processed '89car_jpg.rf.44a7a3fdc732c76f34cbeb1f2d1c0192.txt' and saved to 'out_valid_label/89car_jpg.rf.44a7a3fdc732c76f34cbeb1f2d1c0192.txt'\n",
            "Processed 'BUS_146_jpeg_jpg.rf.73c6dcbf1e1bc28032d567c0bcf12819.txt' and saved to 'out_valid_label/BUS_146_jpeg_jpg.rf.73c6dcbf1e1bc28032d567c0bcf12819.txt'\n",
            "Processed '143_png.rf.21a6e6a0d9d2a3e7f902baa36da5413b.txt' and saved to 'out_valid_label/143_png.rf.21a6e6a0d9d2a3e7f902baa36da5413b.txt'\n",
            "Processed '311_png.rf.9c044e8b7af0fafb8fc50690979849ef.txt' and saved to 'out_valid_label/311_png.rf.9c044e8b7af0fafb8fc50690979849ef.txt'\n",
            "Processed '17car_jpg.rf.dedb750c9da178d81ff8d5e812a60491.txt' and saved to 'out_valid_label/17car_jpg.rf.dedb750c9da178d81ff8d5e812a60491.txt'\n",
            "Processed 'BUS_90_jpeg_jpg.rf.0d4031f9239ae87375262e5d90173304.txt' and saved to 'out_valid_label/BUS_90_jpeg_jpg.rf.0d4031f9239ae87375262e5d90173304.txt'\n",
            "Processed 'images-14-_jpg.rf.57bc75504e52f219b21405da213ade29.txt' and saved to 'out_valid_label/images-14-_jpg.rf.57bc75504e52f219b21405da213ade29.txt'\n",
            "Processed '59car_jpg.rf.c51e256a0b13551aabe939624eb14212.txt' and saved to 'out_valid_label/59car_jpg.rf.c51e256a0b13551aabe939624eb14212.txt'\n",
            "Processed 'download-2-_jpg.rf.452c4445f2e5f1b4a327674ea0c4fef2.txt' and saved to 'out_valid_label/download-2-_jpg.rf.452c4445f2e5f1b4a327674ea0c4fef2.txt'\n",
            "Processed '80car_jpg.rf.84cb8c0a6cf2322abc124e6f4e7f19c2.txt' and saved to 'out_valid_label/80car_jpg.rf.84cb8c0a6cf2322abc124e6f4e7f19c2.txt'\n",
            "Processed 'images-3-_jpg.rf.c67c3e6496cab2641a224a98e586641d.txt' and saved to 'out_valid_label/images-3-_jpg.rf.c67c3e6496cab2641a224a98e586641d.txt'\n",
            "Processed 'BUS_5_jpeg_jpg.rf.e66b812b509367779af26817a06afe90.txt' and saved to 'out_valid_label/BUS_5_jpeg_jpg.rf.e66b812b509367779af26817a06afe90.txt'\n",
            "Processed 'e-rickshaws-in-Jaipur_jpg.rf.7f1e1ecd8d36309b1d33af83f5f1145e.txt' and saved to 'out_valid_label/e-rickshaws-in-Jaipur_jpg.rf.7f1e1ecd8d36309b1d33af83f5f1145e.txt'\n",
            "Processed 'images-10-_jpg.rf.701011fb57828823b4f265e13dc22e6e.txt' and saved to 'out_valid_label/images-10-_jpg.rf.701011fb57828823b4f265e13dc22e6e.txt'\n",
            "Processed '2315afd50b84c4d66e450a69edbce121_jpg.rf.8a7c429f5069d3aa2e9f35aa1d470abd.txt' and saved to 'out_valid_label/2315afd50b84c4d66e450a69edbce121_jpg.rf.8a7c429f5069d3aa2e9f35aa1d470abd.txt'\n",
            "Processed '40car_jpg.rf.704423e313faa15c2531b22fbb241fba.txt' and saved to 'out_valid_label/40car_jpg.rf.704423e313faa15c2531b22fbb241fba.txt'\n",
            "Processed '0fb15a243c8b464e4341525714fb6b12_jpg.rf.028d6ce56697032d574bf5c1f31d12fc.txt' and saved to 'out_valid_label/0fb15a243c8b464e4341525714fb6b12_jpg.rf.028d6ce56697032d574bf5c1f31d12fc.txt'\n",
            "Processed 'BUS_79_jpeg_jpg.rf.12453d039043440bc9a7c9718abc3bc1.txt' and saved to 'out_valid_label/BUS_79_jpeg_jpg.rf.12453d039043440bc9a7c9718abc3bc1.txt'\n",
            "Processed '20220821_07_29_56_364_000_AhLoRqStW2fFj9xiE1Vng2QhtJy1_F_4160_3120_jpg.rf.9fae72582c1712ae299f2313b2ee78cf.txt' and saved to 'out_valid_label/20220821_07_29_56_364_000_AhLoRqStW2fFj9xiE1Vng2QhtJy1_F_4160_3120_jpg.rf.9fae72582c1712ae299f2313b2ee78cf.txt'\n",
            "Processed 'images-7-_jpg.rf.3d8f3d57fbd2ce9f2051451e6a3022ec.txt' and saved to 'out_valid_label/images-7-_jpg.rf.3d8f3d57fbd2ce9f2051451e6a3022ec.txt'\n",
            "Processed '20220816_17_12_30_775_000_Cmsqzc7LqxQcQY8E1p19jKxJPG42_F_3000_4000_jpg.rf.e6ab460a6317c69b4eade62cf9302b38.txt' and saved to 'out_valid_label/20220816_17_12_30_775_000_Cmsqzc7LqxQcQY8E1p19jKxJPG42_F_3000_4000_jpg.rf.e6ab460a6317c69b4eade62cf9302b38.txt'\n",
            "Processed 'street-dog-c_jpg.rf.db5b72340dd012b72554475f53b96684.txt' and saved to 'out_valid_label/street-dog-c_jpg.rf.db5b72340dd012b72554475f53b96684.txt'\n",
            "Processed 'Muslim-women9_20161028_1642538041_jpg.rf.93d0f274e5047875fbf0bfb7491db745.txt' and saved to 'out_valid_label/Muslim-women9_20161028_1642538041_jpg.rf.93d0f274e5047875fbf0bfb7491db745.txt'\n",
            "Processed 'images-12-_jpg.rf.269f60283ff34a759ab7202ddbd42118.txt' and saved to 'out_valid_label/images-12-_jpg.rf.269f60283ff34a759ab7202ddbd42118.txt'\n",
            "Processed '060c238aea70d9e91cb1704846262dc0_jpg.rf.6cde4aee2ddbe584dd8763dc2ec7c8c8.txt' and saved to 'out_valid_label/060c238aea70d9e91cb1704846262dc0_jpg.rf.6cde4aee2ddbe584dd8763dc2ec7c8c8.txt'\n",
            "Processed '067a7384541eb7ce1e2b812eb61f71e2_jpg.rf.a2ce3346190c5c884296910378d6382f.txt' and saved to 'out_valid_label/067a7384541eb7ce1e2b812eb61f71e2_jpg.rf.a2ce3346190c5c884296910378d6382f.txt'\n",
            "Processed '315_png.rf.4fd0d13983daf8a9a5d492d25a32005c.txt' and saved to 'out_valid_label/315_png.rf.4fd0d13983daf8a9a5d492d25a32005c.txt'\n",
            "Processed 'BUS_6_jpeg_jpg.rf.d365cdfc4f0ea5fa788caeab9f98c748.txt' and saved to 'out_valid_label/BUS_6_jpeg_jpg.rf.d365cdfc4f0ea5fa788caeab9f98c748.txt'\n",
            "Processed 'images_jpg.rf.e9abcee8ec5a59985560455449e96563.txt' and saved to 'out_valid_label/images_jpg.rf.e9abcee8ec5a59985560455449e96563.txt'\n",
            "Processed '390_png.rf.1d0946818c1f28eeaa7e6082ab9a827d.txt' and saved to 'out_valid_label/390_png.rf.1d0946818c1f28eeaa7e6082ab9a827d.txt'\n",
            "Processed 'adf28f43c4b066b7ccdd1a9741e83ba1_jpg.rf.df4fd49589f154dba397a8800781203f.txt' and saved to 'out_valid_label/adf28f43c4b066b7ccdd1a9741e83ba1_jpg.rf.df4fd49589f154dba397a8800781203f.txt'\n",
            "Processed 'download-4-_jpg.rf.4c029757121f792a9743dd12c495a7e9.txt' and saved to 'out_valid_label/download-4-_jpg.rf.4c029757121f792a9743dd12c495a7e9.txt'\n",
            "Processed '20220816_08_41_25_452_000_ht3IhIFrQCZrqoxy6s6pNmKMiSB2_T_1151_1080-1-_jpg.rf.0174ed2e8607aaee257145e772ac8304.txt' and saved to 'out_valid_label/20220816_08_41_25_452_000_ht3IhIFrQCZrqoxy6s6pNmKMiSB2_T_1151_1080-1-_jpg.rf.0174ed2e8607aaee257145e772ac8304.txt'\n",
            "Processed '33_png.rf.8ba5868797bf599fb51c20ce9f3a9cbf.txt' and saved to 'out_valid_label/33_png.rf.8ba5868797bf599fb51c20ce9f3a9cbf.txt'\n",
            "Processed 'cycle-rickshaw-tour_jpg.rf.4ae007c539e45fbd531b04203e60e438.txt' and saved to 'out_valid_label/cycle-rickshaw-tour_jpg.rf.4ae007c539e45fbd531b04203e60e438.txt'\n",
            "Processed 'images-15-_jpg.rf.9ad6488d613e2ec24c49efeb3393311f.txt' and saved to 'out_valid_label/images-15-_jpg.rf.9ad6488d613e2ec24c49efeb3393311f.txt'\n",
            "Processed 'ac8132f8cc8ead19afbbdab6c8872d58_jpg.rf.05700a2710b5ef00f93242540a4a741a.txt' and saved to 'out_valid_label/ac8132f8cc8ead19afbbdab6c8872d58_jpg.rf.05700a2710b5ef00f93242540a4a741a.txt'\n",
            "Processed '31car_jpg.rf.12612fe0fae0751503db544c5c4d8b48.txt' and saved to 'out_valid_label/31car_jpg.rf.12612fe0fae0751503db544c5c4d8b48.txt'\n",
            "Processed '28135296583_6f2b871957_b_jpg.rf.4d7643ffbf6a99c4c96bf502df7d6a94.txt' and saved to 'out_valid_label/28135296583_6f2b871957_b_jpg.rf.4d7643ffbf6a99c4c96bf502df7d6a94.txt'\n",
            "Processed '6e8a1036dacdb72f7910d01f03040a4a-1-_jpg.rf.e38d0b51120aa030f66f715a6df39e53.txt' and saved to 'out_valid_label/6e8a1036dacdb72f7910d01f03040a4a-1-_jpg.rf.e38d0b51120aa030f66f715a6df39e53.txt'\n",
            "Processed 'Police_jpg.rf.0af90fa531fa7bed28fbd01af5eb495f.txt' and saved to 'out_valid_label/Police_jpg.rf.0af90fa531fa7bed28fbd01af5eb495f.txt'\n",
            "Processed 'images-31-_jpg.rf.711b3122522f5250df1716a95c42ba98.txt' and saved to 'out_valid_label/images-31-_jpg.rf.711b3122522f5250df1716a95c42ba98.txt'\n",
            "Processed 'a63577c804aecfd0f4465263d1ebb3dd-1-_jpg.rf.13338fc227ec9a821d3cc24ab8cb6ea8.txt' and saved to 'out_valid_label/a63577c804aecfd0f4465263d1ebb3dd-1-_jpg.rf.13338fc227ec9a821d3cc24ab8cb6ea8.txt'\n",
            "Processed '201113duc-55a771ee8f1d2_jpg.rf.9ab56d67acc9daa20b632b8337dcda77.txt' and saved to 'out_valid_label/201113duc-55a771ee8f1d2_jpg.rf.9ab56d67acc9daa20b632b8337dcda77.txt'\n",
            "Processed '43car_jpg.rf.257dc2fd9d464c7072b5913f8bc6e1e0.txt' and saved to 'out_valid_label/43car_jpg.rf.257dc2fd9d464c7072b5913f8bc6e1e0.txt'\n",
            "Processed 'e-rikshaw2_jpg.rf.5811228cde0cec0f4518ecfc4aca6514.txt' and saved to 'out_valid_label/e-rikshaw2_jpg.rf.5811228cde0cec0f4518ecfc4aca6514.txt'\n",
            "Processed 'images-5-_jpg.rf.3a83cc90ab37994241234890d9d99be7.txt' and saved to 'out_valid_label/images-5-_jpg.rf.3a83cc90ab37994241234890d9d99be7.txt'\n",
            "Processed 'f460aaa186530a139fc86c00922efc5d_jpg.rf.a995bb14c0e00f537e296480fbc0c104.txt' and saved to 'out_valid_label/f460aaa186530a139fc86c00922efc5d_jpg.rf.a995bb14c0e00f537e296480fbc0c104.txt'\n",
            "Processed '274_png.rf.0debfdaea690a3b67f80a6b001d2864b.txt' and saved to 'out_valid_label/274_png.rf.0debfdaea690a3b67f80a6b001d2864b.txt'\n",
            "Processed 'monkey-1200_jpg.rf.b9678167a2951e2ec559e421aa9393d8.txt' and saved to 'out_valid_label/monkey-1200_jpg.rf.b9678167a2951e2ec559e421aa9393d8.txt'\n",
            "Processed 'depositphotos_69433667-stock-photo-empty-rickshaw-on-street-of_jpg.rf.4d3718f7112362103f0c861b62c131b1.txt' and saved to 'out_valid_label/depositphotos_69433667-stock-photo-empty-rickshaw-on-street-of_jpg.rf.4d3718f7112362103f0c861b62c131b1.txt'\n",
            "Processed '8309223a704245a0bc5429a43980900d_jpg.rf.70bde3402865bfc0ca2b632ca183a96e.txt' and saved to 'out_valid_label/8309223a704245a0bc5429a43980900d_jpg.rf.70bde3402865bfc0ca2b632ca183a96e.txt'\n",
            "Processed 'images-27-_jpg.rf.1a9dd6c5a3af04cca842d7bc201e82fa.txt' and saved to 'out_valid_label/images-27-_jpg.rf.1a9dd6c5a3af04cca842d7bc201e82fa.txt'\n",
            "Processed 'Brett-Cole-India-04625_xgaplus_jpg.rf.788168312660b4354e317b726337c6a9.txt' and saved to 'out_valid_label/Brett-Cole-India-04625_xgaplus_jpg.rf.788168312660b4354e317b726337c6a9.txt'\n",
            "Processed '52car_jpg.rf.0925d08d7ad31b717743fed68ce2904c.txt' and saved to 'out_valid_label/52car_jpg.rf.0925d08d7ad31b717743fed68ce2904c.txt'\n",
            "Processed '100_png.rf.5c2b050a37d43c5424f9b678c75fca01.txt' and saved to 'out_valid_label/100_png.rf.5c2b050a37d43c5424f9b678c75fca01.txt'\n",
            "Processed 'images-3-_jpg.rf.0a0fa4864003781d3bc8739c7d8ae394.txt' and saved to 'out_valid_label/images-3-_jpg.rf.0a0fa4864003781d3bc8739c7d8ae394.txt'\n",
            "Processed 'Datacluster-Truck-42-_jpg.rf.97d790acf485c159605b4c1d6037e113.txt' and saved to 'out_valid_label/Datacluster-Truck-42-_jpg.rf.97d790acf485c159605b4c1d6037e113.txt'\n",
            "Processed '15692408868_a388d0c527_b_jpg.rf.a0a8660c0602bb0efd870c418ef61f95.txt' and saved to 'out_valid_label/15692408868_a388d0c527_b_jpg.rf.a0a8660c0602bb0efd870c418ef61f95.txt'\n",
            "Processed '83car_jpg.rf.6dcd19cb65f16749d592c341f6f52700.txt' and saved to 'out_valid_label/83car_jpg.rf.6dcd19cb65f16749d592c341f6f52700.txt'\n",
            "Processed 'download-3-_jpg.rf.25a547aa27d4cee89611b75f57e38c83.txt' and saved to 'out_valid_label/download-3-_jpg.rf.25a547aa27d4cee89611b75f57e38c83.txt'\n",
            "Processed 'images-16-_jpg.rf.e7930d622fa0e5696bf017de54bc2aa2.txt' and saved to 'out_valid_label/images-16-_jpg.rf.e7930d622fa0e5696bf017de54bc2aa2.txt'\n",
            "Processed '07294bfa05cb6d9ac6b03ef79048d319_jpg.rf.2ffc27520246304303ba639738f04597.txt' and saved to 'out_valid_label/07294bfa05cb6d9ac6b03ef79048d319_jpg.rf.2ffc27520246304303ba639738f04597.txt'\n",
            "Processed 'images-2-_jpg.rf.4d5d46cc90a58b6def28fbe84c141369.txt' and saved to 'out_valid_label/images-2-_jpg.rf.4d5d46cc90a58b6def28fbe84c141369.txt'\n",
            "Processed 'images-12-_jpg.rf.9d7c693b1554654bbf3d4e58eb4fdbfe.txt' and saved to 'out_valid_label/images-12-_jpg.rf.9d7c693b1554654bbf3d4e58eb4fdbfe.txt'\n",
            "Processed '20220819_10_51_33_456_000_3Du7psGgitewpjIJfxWYyXPV8f73_F_3840_2880_jpg.rf.07544c804e3ae082c1e54f829c70ac2f.txt' and saved to 'out_valid_label/20220819_10_51_33_456_000_3Du7psGgitewpjIJfxWYyXPV8f73_F_3840_2880_jpg.rf.07544c804e3ae082c1e54f829c70ac2f.txt'\n",
            "Processed 'images-7-_jpg.rf.5f1f9fc0da0b631e683a3c14fdcd84a2.txt' and saved to 'out_valid_label/images-7-_jpg.rf.5f1f9fc0da0b631e683a3c14fdcd84a2.txt'\n"
          ]
        }
      ]
    },
    {
      "cell_type": "markdown",
      "metadata": {
        "id": "2f779d81"
      },
      "source": [
        "## Summary:\n",
        "\n",
        "### Data Analysis Key Findings\n",
        "\n",
        "*   The initial attempts to unzip the `train_labels.zip` file failed due to a `FileNotFoundError`.\n",
        "*   Despite the failure to unzip the initial file, the subsequent steps to create the output directory (`out_tran_label`) and identify `.txt` files in the current directory were successful.\n",
        "*   The processing step successfully iterated through the identified `.txt` files (e.g., `img1.txt`, `out_image1.txt`), applied the specified mapping to the first column of each file, and saved the modified files to the `out_tran_label` directory.\n",
        "*   A `FutureWarning` related to incompatible data types was encountered during the pandas mapping operation, although it did not prevent the task from completing successfully.\n",
        "\n",
        "### Insights or Next Steps\n",
        "\n",
        "*   Verify the presence and correct path of the `train_labels.zip` file to successfully complete the initial unzipping step.\n",
        "*   Investigate the `FutureWarning` in pandas to ensure data type compatibility and prevent potential issues in future executions or with updated pandas versions.\n"
      ]
    },
    {
      "cell_type": "code",
      "metadata": {
        "colab": {
          "base_uri": "https://localhost:8080/"
        },
        "id": "ff542bcf",
        "outputId": "605a7725-27d8-43d9-a151-0a006762393e"
      },
      "source": [
        "import zipfile\n",
        "import os\n",
        "\n",
        "output_folder = 'out_valid_label'\n",
        "zip_filename = 'out_valid_label.zip'\n",
        "\n",
        "try:\n",
        "    with zipfile.ZipFile(zip_filename, 'w', zipfile.ZIP_DEFLATED) as zipf:\n",
        "        for root, _, files in os.walk(output_folder):\n",
        "            for file in files:\n",
        "                file_path = os.path.join(root, file)\n",
        "                arcname = os.path.relpath(file_path, output_folder)\n",
        "                zipf.write(file_path, arcname)\n",
        "\n",
        "    print(f\"Successfully created '{zip_filename}' from '{output_folder}'\")\n",
        "\n",
        "except FileNotFoundError:\n",
        "    print(f\"Error: The folder '{output_folder}' was not found.\")\n",
        "except Exception as e:\n",
        "    print(f\"An unexpected error occurred: {e}\")"
      ],
      "execution_count": 25,
      "outputs": [
        {
          "output_type": "stream",
          "name": "stdout",
          "text": [
            "Successfully created 'out_valid_label.zip' from 'out_valid_label'\n"
          ]
        }
      ]
    }
  ]
}